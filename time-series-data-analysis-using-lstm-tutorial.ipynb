{
 "cells": [
  {
   "cell_type": "markdown",
   "metadata": {
    "_cell_guid": "ea89cc79-a0a2-42f7-853f-fd3031abf396",
    "_uuid": "0d427513cb460f95316070050ee4f5d3ada49e62"
   },
   "source": [
    "\n",
    "## This Notebook is a sort of tutorial for the beginners in Deep Learning and time-series data analysis. \n",
    "\n",
    "##  * The aim is just to show how to build the simplest Long Short-Term Memory (LSTM) recurrent neural network for the data.  \n",
    " \n",
    "### * Jupyter notebook can be downloaded here: https://github.com/amirrezaeian/Individual-household-electric-power-consumption-Data-Set-"
   ]
  },
  {
   "cell_type": "markdown",
   "metadata": {
    "_cell_guid": "ead3c9d9-d48c-46c1-9d6f-817edcf3fe6d",
    "_uuid": "38fa35735ca2a9f07e4b56e58ae935c09ca697fa"
   },
   "source": [
    "The description of data can be found here:\n",
    "http://archive.ics.uci.edu/ml/datasets/Individual+household+electric+power+consumption\n",
    "\n",
    "Attribute Information:\n",
    "1.date: Date in format dd/mm/yyyy\n",
    "\n",
    "2.time: time in format hh:mm:ss\n",
    "\n",
    "3.global_active_power: household global minute-averaged active power (in kilowatt)\n",
    "\n",
    "4.global_reactive_power: household global minute-averaged reactive power (in kilowatt)\n",
    "\n",
    "5.voltage: minute-averaged voltage (in volt)\n",
    "\n",
    "6.global_intensity: household global minute-averaged current intensity (in ampere)\n",
    "\n",
    "7.sub_metering_1: energy sub-metering No. 1 (in watt-hour of active energy). It corresponds to the kitchen, containing mainly a dishwasher, an oven and a microwave (hot plates are not electric but gas powered).\n",
    "\n",
    "8.sub_metering_2: energy sub-metering No. 2 (in watt-hour of active energy). It corresponds to the laundry room, containing a washing-machine, a tumble-drier, a refrigerator and a light.\n",
    "\n",
    "9.sub_metering_3: energy sub-metering No. 3 (in watt-hour of active energy). It corresponds to an electric water-heater and an air-conditioner."
   ]
  },
  {
   "cell_type": "code",
   "execution_count": 5,
   "metadata": {
    "_cell_guid": "7b27c994-a143-422a-a8cc-51e6a1a688d3",
    "_uuid": "4e690c4a961b9475a93164720c7aeaab99fe7061"
   },
   "outputs": [
    {
     "data": {
      "text/plain": [
       "'\"\\n## for Deep-learing:\\nfrom keras.layers import Dense\\nfrom keras.models import Sequential\\nfrom keras.utils import to_categorical\\nfrom keras.optimizers import SGD \\nfrom keras.callbacks import EarlyStopping\\nfrom keras.utils import np_utils\\nimport itertools\\nfrom keras.layers import LSTM\\nfrom keras.layers.convolutional import Conv1D\\nfrom keras.layers.convolutional import MaxPooling1D\\nfrom keras.layers import Dropout\\n'"
      ]
     },
     "execution_count": 5,
     "metadata": {},
     "output_type": "execute_result"
    }
   ],
   "source": [
    "# Let`s import all packages that we may need:\n",
    "\n",
    "import sys\n",
    "\n",
    "import matplotlib.pyplot as plt  # this is used for the plot the graph\n",
    "import numpy as np  # linear algebra\n",
    "import pandas as pd  # data processing, CSV file I/O (e.g. pd.read_csv), data manipulation as in SQL\n",
    "import seaborn as sns  # used for plot interactive graph.\n",
    "from scipy.stats import randint\n",
    "from sklearn import metrics  # for the check the error and accuracy of the model\n",
    "from sklearn.feature_selection import SelectFromModel\n",
    "from sklearn.metrics import mean_squared_error, r2_score\n",
    "from sklearn.model_selection import KFold  # use for cross validation\n",
    "from sklearn.model_selection import train_test_split  # to split the data into two parts\n",
    "from sklearn.model_selection import cross_val_score\n",
    "from sklearn.pipeline import Pipeline  # pipeline making\n",
    "from sklearn.preprocessing import StandardScaler  # for normalization\n",
    "from sklearn.preprocessing import MinMaxScaler\n",
    "\n",
    "\"\"\"\"\n",
    "## for Deep-learing:\n",
    "from keras.layers import Dense\n",
    "from keras.models import Sequential\n",
    "from keras.utils import to_categorical\n",
    "from keras.optimizers import SGD \n",
    "from keras.callbacks import EarlyStopping\n",
    "from keras.utils import np_utils\n",
    "import itertools\n",
    "from keras.layers import LSTM\n",
    "from keras.layers.convolutional import Conv1D\n",
    "from keras.layers.convolutional import MaxPooling1D\n",
    "from keras.layers import Dropout\n",
    "\"\"\""
   ]
  },
  {
   "cell_type": "code",
   "execution_count": 7,
   "metadata": {
    "_cell_guid": "3b7223da-4278-4fa5-add9-8e238facc74a",
    "_uuid": "7ef91d05da654a56aaccb166dfa30d50cae2fb86"
   },
   "outputs": [],
   "source": [
    "## Data can be downloaded from: http://archive.ics.uci.edu/ml/machine-learning-databases/00235/\n",
    "## Just open the zip file and grab the file 'household_power_consumption.txt' put it in the directory\n",
    "## that you would like to run the code.\n",
    "\n",
    "\n",
    "df = pd.read_csv(\n",
    "    \"household_power_consumption.txt\",\n",
    "    sep=\";\",\n",
    "    parse_dates={\"dt\": [\"Date\", \"Time\"]},\n",
    "    infer_datetime_format=True,\n",
    "    low_memory=False,\n",
    "    na_values=[\"nan\", \"?\"],\n",
    "    index_col=\"dt\",\n",
    ")"
   ]
  },
  {
   "cell_type": "markdown",
   "metadata": {
    "_cell_guid": "08ccaec3-7c36-453b-b1f2-29e9421114c5",
    "_uuid": "a5dcfefaffe77d27ce026772cdf5a7ba3eeffa83"
   },
   "source": [
    " ## 1) Note that data include 'nan' and '?' as a string. I converted both to numpy nan in importing stage (above) and treated both of them the same. \n",
    "\n",
    "## 2) I merged two columns 'Date' and 'Time' to 'dt'. \n",
    "\n",
    "## 3) I also converted in the above, the data to time-series type, by taking index to be the time. "
   ]
  },
  {
   "cell_type": "code",
   "execution_count": 8,
   "metadata": {
    "_cell_guid": "e4be7beb-bed9-45ae-8f7b-5fed896f26e6",
    "_uuid": "bbcddeb8ff813f822725d7c73ceeee9e497a4f06"
   },
   "outputs": [
    {
     "data": {
      "text/html": [
       "<div>\n",
       "<style scoped>\n",
       "    .dataframe tbody tr th:only-of-type {\n",
       "        vertical-align: middle;\n",
       "    }\n",
       "\n",
       "    .dataframe tbody tr th {\n",
       "        vertical-align: top;\n",
       "    }\n",
       "\n",
       "    .dataframe thead th {\n",
       "        text-align: right;\n",
       "    }\n",
       "</style>\n",
       "<table border=\"1\" class=\"dataframe\">\n",
       "  <thead>\n",
       "    <tr style=\"text-align: right;\">\n",
       "      <th></th>\n",
       "      <th>Global_active_power</th>\n",
       "      <th>Global_reactive_power</th>\n",
       "      <th>Voltage</th>\n",
       "      <th>Global_intensity</th>\n",
       "      <th>Sub_metering_1</th>\n",
       "      <th>Sub_metering_2</th>\n",
       "      <th>Sub_metering_3</th>\n",
       "    </tr>\n",
       "    <tr>\n",
       "      <th>dt</th>\n",
       "      <th></th>\n",
       "      <th></th>\n",
       "      <th></th>\n",
       "      <th></th>\n",
       "      <th></th>\n",
       "      <th></th>\n",
       "      <th></th>\n",
       "    </tr>\n",
       "  </thead>\n",
       "  <tbody>\n",
       "    <tr>\n",
       "      <th>2006-12-16 17:24:00</th>\n",
       "      <td>4.216</td>\n",
       "      <td>0.418</td>\n",
       "      <td>234.84</td>\n",
       "      <td>18.4</td>\n",
       "      <td>0.0</td>\n",
       "      <td>1.0</td>\n",
       "      <td>17.0</td>\n",
       "    </tr>\n",
       "    <tr>\n",
       "      <th>2006-12-16 17:25:00</th>\n",
       "      <td>5.360</td>\n",
       "      <td>0.436</td>\n",
       "      <td>233.63</td>\n",
       "      <td>23.0</td>\n",
       "      <td>0.0</td>\n",
       "      <td>1.0</td>\n",
       "      <td>16.0</td>\n",
       "    </tr>\n",
       "    <tr>\n",
       "      <th>2006-12-16 17:26:00</th>\n",
       "      <td>5.374</td>\n",
       "      <td>0.498</td>\n",
       "      <td>233.29</td>\n",
       "      <td>23.0</td>\n",
       "      <td>0.0</td>\n",
       "      <td>2.0</td>\n",
       "      <td>17.0</td>\n",
       "    </tr>\n",
       "    <tr>\n",
       "      <th>2006-12-16 17:27:00</th>\n",
       "      <td>5.388</td>\n",
       "      <td>0.502</td>\n",
       "      <td>233.74</td>\n",
       "      <td>23.0</td>\n",
       "      <td>0.0</td>\n",
       "      <td>1.0</td>\n",
       "      <td>17.0</td>\n",
       "    </tr>\n",
       "    <tr>\n",
       "      <th>2006-12-16 17:28:00</th>\n",
       "      <td>3.666</td>\n",
       "      <td>0.528</td>\n",
       "      <td>235.68</td>\n",
       "      <td>15.8</td>\n",
       "      <td>0.0</td>\n",
       "      <td>1.0</td>\n",
       "      <td>17.0</td>\n",
       "    </tr>\n",
       "  </tbody>\n",
       "</table>\n",
       "</div>"
      ],
      "text/plain": [
       "                     Global_active_power  Global_reactive_power  Voltage  \\\n",
       "dt                                                                         \n",
       "2006-12-16 17:24:00                4.216                  0.418   234.84   \n",
       "2006-12-16 17:25:00                5.360                  0.436   233.63   \n",
       "2006-12-16 17:26:00                5.374                  0.498   233.29   \n",
       "2006-12-16 17:27:00                5.388                  0.502   233.74   \n",
       "2006-12-16 17:28:00                3.666                  0.528   235.68   \n",
       "\n",
       "                     Global_intensity  Sub_metering_1  Sub_metering_2  \\\n",
       "dt                                                                      \n",
       "2006-12-16 17:24:00              18.4             0.0             1.0   \n",
       "2006-12-16 17:25:00              23.0             0.0             1.0   \n",
       "2006-12-16 17:26:00              23.0             0.0             2.0   \n",
       "2006-12-16 17:27:00              23.0             0.0             1.0   \n",
       "2006-12-16 17:28:00              15.8             0.0             1.0   \n",
       "\n",
       "                     Sub_metering_3  \n",
       "dt                                   \n",
       "2006-12-16 17:24:00            17.0  \n",
       "2006-12-16 17:25:00            16.0  \n",
       "2006-12-16 17:26:00            17.0  \n",
       "2006-12-16 17:27:00            17.0  \n",
       "2006-12-16 17:28:00            17.0  "
      ]
     },
     "execution_count": 8,
     "metadata": {},
     "output_type": "execute_result"
    }
   ],
   "source": [
    "df.head()"
   ]
  },
  {
   "cell_type": "code",
   "execution_count": 9,
   "metadata": {
    "_cell_guid": "76a8cf19-7cfd-4b46-b508-200ead2cafc3",
    "_uuid": "11872f6f01ded0e63e9a32e82acc280860c5a15d"
   },
   "outputs": [
    {
     "name": "stdout",
     "output_type": "stream",
     "text": [
      "<class 'pandas.core.frame.DataFrame'>\n",
      "DatetimeIndex: 2075259 entries, 2006-12-16 17:24:00 to 2010-11-26 21:02:00\n",
      "Data columns (total 7 columns):\n",
      " #   Column                 Dtype  \n",
      "---  ------                 -----  \n",
      " 0   Global_active_power    float64\n",
      " 1   Global_reactive_power  float64\n",
      " 2   Voltage                float64\n",
      " 3   Global_intensity       float64\n",
      " 4   Sub_metering_1         float64\n",
      " 5   Sub_metering_2         float64\n",
      " 6   Sub_metering_3         float64\n",
      "dtypes: float64(7)\n",
      "memory usage: 126.7 MB\n"
     ]
    }
   ],
   "source": [
    "df.info()"
   ]
  },
  {
   "cell_type": "code",
   "execution_count": 10,
   "metadata": {
    "_cell_guid": "a26765e3-2ac8-441a-a3d8-ff32ef5c80a0",
    "_uuid": "cfbb517b90839c772001575bb5636053db10159f"
   },
   "outputs": [
    {
     "data": {
      "text/plain": [
       "Global_active_power      float64\n",
       "Global_reactive_power    float64\n",
       "Voltage                  float64\n",
       "Global_intensity         float64\n",
       "Sub_metering_1           float64\n",
       "Sub_metering_2           float64\n",
       "Sub_metering_3           float64\n",
       "dtype: object"
      ]
     },
     "execution_count": 10,
     "metadata": {},
     "output_type": "execute_result"
    }
   ],
   "source": [
    "df.dtypes"
   ]
  },
  {
   "cell_type": "code",
   "execution_count": 11,
   "metadata": {
    "_cell_guid": "5eddbf54-4dd0-49d1-af1f-4d6a97275247",
    "_uuid": "a0e9aa33b5f6231b67cfce24445fbd795190fd42"
   },
   "outputs": [
    {
     "data": {
      "text/plain": [
       "(2075259, 7)"
      ]
     },
     "execution_count": 11,
     "metadata": {},
     "output_type": "execute_result"
    }
   ],
   "source": [
    "df.shape"
   ]
  },
  {
   "cell_type": "code",
   "execution_count": 12,
   "metadata": {
    "_cell_guid": "234d0be9-5117-40f6-93d8-8c4f425f1926",
    "_uuid": "e4c89c0f6b3e00baa511d2b611079d6a00648c83"
   },
   "outputs": [
    {
     "data": {
      "text/html": [
       "<div>\n",
       "<style scoped>\n",
       "    .dataframe tbody tr th:only-of-type {\n",
       "        vertical-align: middle;\n",
       "    }\n",
       "\n",
       "    .dataframe tbody tr th {\n",
       "        vertical-align: top;\n",
       "    }\n",
       "\n",
       "    .dataframe thead th {\n",
       "        text-align: right;\n",
       "    }\n",
       "</style>\n",
       "<table border=\"1\" class=\"dataframe\">\n",
       "  <thead>\n",
       "    <tr style=\"text-align: right;\">\n",
       "      <th></th>\n",
       "      <th>Global_active_power</th>\n",
       "      <th>Global_reactive_power</th>\n",
       "      <th>Voltage</th>\n",
       "      <th>Global_intensity</th>\n",
       "      <th>Sub_metering_1</th>\n",
       "      <th>Sub_metering_2</th>\n",
       "      <th>Sub_metering_3</th>\n",
       "    </tr>\n",
       "  </thead>\n",
       "  <tbody>\n",
       "    <tr>\n",
       "      <th>count</th>\n",
       "      <td>2.049280e+06</td>\n",
       "      <td>2.049280e+06</td>\n",
       "      <td>2.049280e+06</td>\n",
       "      <td>2.049280e+06</td>\n",
       "      <td>2.049280e+06</td>\n",
       "      <td>2.049280e+06</td>\n",
       "      <td>2.049280e+06</td>\n",
       "    </tr>\n",
       "    <tr>\n",
       "      <th>mean</th>\n",
       "      <td>1.091615e+00</td>\n",
       "      <td>1.237145e-01</td>\n",
       "      <td>2.408399e+02</td>\n",
       "      <td>4.627759e+00</td>\n",
       "      <td>1.121923e+00</td>\n",
       "      <td>1.298520e+00</td>\n",
       "      <td>6.458447e+00</td>\n",
       "    </tr>\n",
       "    <tr>\n",
       "      <th>std</th>\n",
       "      <td>1.057294e+00</td>\n",
       "      <td>1.127220e-01</td>\n",
       "      <td>3.239987e+00</td>\n",
       "      <td>4.444396e+00</td>\n",
       "      <td>6.153031e+00</td>\n",
       "      <td>5.822026e+00</td>\n",
       "      <td>8.437154e+00</td>\n",
       "    </tr>\n",
       "    <tr>\n",
       "      <th>min</th>\n",
       "      <td>7.600000e-02</td>\n",
       "      <td>0.000000e+00</td>\n",
       "      <td>2.232000e+02</td>\n",
       "      <td>2.000000e-01</td>\n",
       "      <td>0.000000e+00</td>\n",
       "      <td>0.000000e+00</td>\n",
       "      <td>0.000000e+00</td>\n",
       "    </tr>\n",
       "    <tr>\n",
       "      <th>25%</th>\n",
       "      <td>3.080000e-01</td>\n",
       "      <td>4.800000e-02</td>\n",
       "      <td>2.389900e+02</td>\n",
       "      <td>1.400000e+00</td>\n",
       "      <td>0.000000e+00</td>\n",
       "      <td>0.000000e+00</td>\n",
       "      <td>0.000000e+00</td>\n",
       "    </tr>\n",
       "    <tr>\n",
       "      <th>50%</th>\n",
       "      <td>6.020000e-01</td>\n",
       "      <td>1.000000e-01</td>\n",
       "      <td>2.410100e+02</td>\n",
       "      <td>2.600000e+00</td>\n",
       "      <td>0.000000e+00</td>\n",
       "      <td>0.000000e+00</td>\n",
       "      <td>1.000000e+00</td>\n",
       "    </tr>\n",
       "    <tr>\n",
       "      <th>75%</th>\n",
       "      <td>1.528000e+00</td>\n",
       "      <td>1.940000e-01</td>\n",
       "      <td>2.428900e+02</td>\n",
       "      <td>6.400000e+00</td>\n",
       "      <td>0.000000e+00</td>\n",
       "      <td>1.000000e+00</td>\n",
       "      <td>1.700000e+01</td>\n",
       "    </tr>\n",
       "    <tr>\n",
       "      <th>max</th>\n",
       "      <td>1.112200e+01</td>\n",
       "      <td>1.390000e+00</td>\n",
       "      <td>2.541500e+02</td>\n",
       "      <td>4.840000e+01</td>\n",
       "      <td>8.800000e+01</td>\n",
       "      <td>8.000000e+01</td>\n",
       "      <td>3.100000e+01</td>\n",
       "    </tr>\n",
       "  </tbody>\n",
       "</table>\n",
       "</div>"
      ],
      "text/plain": [
       "       Global_active_power  Global_reactive_power       Voltage  \\\n",
       "count         2.049280e+06           2.049280e+06  2.049280e+06   \n",
       "mean          1.091615e+00           1.237145e-01  2.408399e+02   \n",
       "std           1.057294e+00           1.127220e-01  3.239987e+00   \n",
       "min           7.600000e-02           0.000000e+00  2.232000e+02   \n",
       "25%           3.080000e-01           4.800000e-02  2.389900e+02   \n",
       "50%           6.020000e-01           1.000000e-01  2.410100e+02   \n",
       "75%           1.528000e+00           1.940000e-01  2.428900e+02   \n",
       "max           1.112200e+01           1.390000e+00  2.541500e+02   \n",
       "\n",
       "       Global_intensity  Sub_metering_1  Sub_metering_2  Sub_metering_3  \n",
       "count      2.049280e+06    2.049280e+06    2.049280e+06    2.049280e+06  \n",
       "mean       4.627759e+00    1.121923e+00    1.298520e+00    6.458447e+00  \n",
       "std        4.444396e+00    6.153031e+00    5.822026e+00    8.437154e+00  \n",
       "min        2.000000e-01    0.000000e+00    0.000000e+00    0.000000e+00  \n",
       "25%        1.400000e+00    0.000000e+00    0.000000e+00    0.000000e+00  \n",
       "50%        2.600000e+00    0.000000e+00    0.000000e+00    1.000000e+00  \n",
       "75%        6.400000e+00    0.000000e+00    1.000000e+00    1.700000e+01  \n",
       "max        4.840000e+01    8.800000e+01    8.000000e+01    3.100000e+01  "
      ]
     },
     "execution_count": 12,
     "metadata": {},
     "output_type": "execute_result"
    }
   ],
   "source": [
    "df.describe()"
   ]
  },
  {
   "cell_type": "code",
   "execution_count": 13,
   "metadata": {
    "_cell_guid": "25d6f9c5-fd15-4ba7-b938-a3e927c50f1c",
    "_uuid": "1d8ddd56738f436c1713c451328693edafe1c3b4"
   },
   "outputs": [
    {
     "data": {
      "text/plain": [
       "Index(['Global_active_power', 'Global_reactive_power', 'Voltage',\n",
       "       'Global_intensity', 'Sub_metering_1', 'Sub_metering_2',\n",
       "       'Sub_metering_3'],\n",
       "      dtype='object')"
      ]
     },
     "execution_count": 13,
     "metadata": {},
     "output_type": "execute_result"
    }
   ],
   "source": [
    "df.columns"
   ]
  },
  {
   "cell_type": "markdown",
   "metadata": {
    "_cell_guid": "938ffef5-1d60-45ab-9e20-1377c25ef3ec",
    "_uuid": "2e248c3bc354cb0d672d173577e81d815d1b9a3c"
   },
   "source": [
    "## Dealing with missing values  'nan' with a test statistic"
   ]
  },
  {
   "cell_type": "code",
   "execution_count": 14,
   "metadata": {
    "_cell_guid": "81cdc1e5-ca60-4239-ace7-2f814ac871f5",
    "_uuid": "efb409f0ea173f8d4589cc8c8f6aed97e771e873"
   },
   "outputs": [
    {
     "data": {
      "text/plain": [
       "[0, 1, 2, 3, 4, 5, 6]"
      ]
     },
     "execution_count": 14,
     "metadata": {},
     "output_type": "execute_result"
    }
   ],
   "source": [
    "## finding all columns that have nan:\n",
    "\n",
    "droping_list_all = []\n",
    "for j in range(0, 7):\n",
    "    if not df.iloc[:, j].notnull().all():\n",
    "        droping_list_all.append(j)\n",
    "        # print(df.iloc[:,j].unique())\n",
    "droping_list_all"
   ]
  },
  {
   "cell_type": "code",
   "execution_count": 15,
   "metadata": {
    "_cell_guid": "77b8bc3e-c837-4976-ab9f-bc441d251d8b",
    "_uuid": "cd3966b66a5b8682efffa059632536ae7e5820e4"
   },
   "outputs": [],
   "source": [
    "# filling nan with mean in any columns\n",
    "\n",
    "for j in range(0, 7):\n",
    "    df.iloc[:, j] = df.iloc[:, j].fillna(df.iloc[:, j].mean())"
   ]
  },
  {
   "cell_type": "code",
   "execution_count": 16,
   "metadata": {
    "_cell_guid": "03367835-8a7b-48d7-becb-4f1e10f18b28",
    "_uuid": "39f6858342a7496f73fb1d5bc1d184ddbb75b773"
   },
   "outputs": [
    {
     "data": {
      "text/plain": [
       "Global_active_power      0\n",
       "Global_reactive_power    0\n",
       "Voltage                  0\n",
       "Global_intensity         0\n",
       "Sub_metering_1           0\n",
       "Sub_metering_2           0\n",
       "Sub_metering_3           0\n",
       "dtype: int64"
      ]
     },
     "execution_count": 16,
     "metadata": {},
     "output_type": "execute_result"
    }
   ],
   "source": [
    "# another sanity check to make sure that there are not more any nan\n",
    "df.isnull().sum()"
   ]
  },
  {
   "cell_type": "markdown",
   "metadata": {
    "_cell_guid": "2cc83d0f-626b-4048-8ffd-51010e800810",
    "_uuid": "64b0092f2b4702dcbebb56f868f87252ea6b87eb"
   },
   "source": [
    "# Data visualization"
   ]
  },
  {
   "cell_type": "markdown",
   "metadata": {
    "_cell_guid": "50cd1457-7a91-4000-a4d6-6614324b6fa7",
    "_uuid": "bd87eb8a3ada3f854b7bcef0617f5050b417a1a9"
   },
   "source": [
    "## * Below I resample over day, and show the sum and mean of Global_active_power. It is seen that mean and sum of resampled data set, have similar structure."
   ]
  },
  {
   "cell_type": "code",
   "execution_count": null,
   "metadata": {
    "_cell_guid": "dd48cb9c-3970-4614-95d5-0eb668b00994",
    "_uuid": "ab6c5bdbe295c16d37f45be52b72446a1cb35806"
   },
   "outputs": [],
   "source": [
    "df.Global_active_power.resample(\"D\").sum().plot(\n",
    "    title=\"Global_active_power resampled over day for sum\"\n",
    ")\n",
    "# df.Global_active_power.resample('D').mean().plot(title='Global_active_power resampled over day', color='red')\n",
    "plt.tight_layout()\n",
    "plt.show()\n",
    "\n",
    "df.Global_active_power.resample(\"D\").mean().plot(\n",
    "    title=\"Global_active_power resampled over day for mean\", color=\"red\"\n",
    ")\n",
    "plt.tight_layout()\n",
    "plt.show()"
   ]
  },
  {
   "cell_type": "code",
   "execution_count": null,
   "metadata": {
    "_cell_guid": "f52ae0f7-61e6-41e8-89b5-ccf04ad9961c",
    "_uuid": "cc12aa0f8fcf294c1323bb1851ff11d8a60f42e1"
   },
   "outputs": [],
   "source": [
    "### Below I show mean and std of 'Global_intensity' resampled over day\n",
    "r = df.Global_intensity.resample(\"D\").agg([\"mean\", \"std\"])\n",
    "r.plot(subplots=True, title=\"Global_intensity resampled over day\")\n",
    "plt.show()"
   ]
  },
  {
   "cell_type": "code",
   "execution_count": null,
   "metadata": {
    "_cell_guid": "25d02bfc-d098-4595-8347-5ad71c872804",
    "_uuid": "d4ecbce5841536070bcfc84662359425511f2029"
   },
   "outputs": [],
   "source": [
    "### Below I show mean and std of 'Global_reactive_power' resampled over day\n",
    "r2 = df.Global_reactive_power.resample(\"D\").agg([\"mean\", \"std\"])\n",
    "r2.plot(subplots=True, title=\"Global_reactive_power resampled over day\", color=\"red\")\n",
    "plt.show()"
   ]
  },
  {
   "cell_type": "code",
   "execution_count": null,
   "metadata": {
    "_cell_guid": "3d8bff5c-041e-42c2-a991-8d2f5b283c40",
    "_uuid": "e454ba869090bbc7e27969e18a3d1d5ed17f2005"
   },
   "outputs": [],
   "source": [
    "### Sum of 'Global_active_power' resampled over month\n",
    "# Sum of 'Global_active_power' resampled over month\n",
    "df[\"Global_active_power\"].resample(\"M\").mean().plot(kind=\"bar\")\n",
    "plt.xticks(rotation=60)\n",
    "plt.ylabel(\"Global_active_power\")\n",
    "plt.title(\"Global_active_power per month (averaged over month)\")\n",
    "plt.show()"
   ]
  },
  {
   "cell_type": "code",
   "execution_count": null,
   "metadata": {
    "_cell_guid": "695df25d-2086-4495-b5f5-73838908df39",
    "_uuid": "6bde1385e10e11f374a6e7a0e75fca1bb631c97b"
   },
   "outputs": [],
   "source": [
    "## Mean of 'Global_active_power' resampled over quarter\n",
    "df[\"Global_active_power\"].resample(\"Q\").mean().plot(kind=\"bar\")\n",
    "plt.xticks(rotation=60)\n",
    "plt.ylabel(\"Global_active_power\")\n",
    "plt.title(\"Global_active_power per quarter (averaged over quarter)\")\n",
    "plt.show()"
   ]
  },
  {
   "cell_type": "markdown",
   "metadata": {
    "_cell_guid": "ba0cf5da-e899-46fb-aa14-b827f363035b",
    "_uuid": "d8dfaf23bffc84c35998940fecd6323d2e58ae3b"
   },
   "source": [
    "### It is very important to note from above two plots that resampling over larger time inteval, will diminish the periodicity of system as we expect. This is important for machine learning feature engineering. "
   ]
  },
  {
   "cell_type": "code",
   "execution_count": null,
   "metadata": {
    "_cell_guid": "140ce779-2a35-4518-b08e-33b39dbbe6c5",
    "_uuid": "ba182d11e69e4c1984d8c6f8ff41cd04a57ba98d"
   },
   "outputs": [],
   "source": [
    "## mean of 'Voltage' resampled over month\n",
    "df[\"Voltage\"].resample(\"M\").mean().plot(kind=\"bar\", color=\"red\")\n",
    "plt.xticks(rotation=60)\n",
    "plt.ylabel(\"Voltage\")\n",
    "plt.title(\"Voltage per quarter (summed over quarter)\")\n",
    "plt.show()"
   ]
  },
  {
   "cell_type": "code",
   "execution_count": null,
   "metadata": {
    "_cell_guid": "e5cb3db1-3bde-4cec-8833-d12a9976b505",
    "_uuid": "4afd451f92abbbaa4814e122c42cbbeb039eae05"
   },
   "outputs": [],
   "source": [
    "df[\"Sub_metering_1\"].resample(\"M\").mean().plot(kind=\"bar\", color=\"brown\")\n",
    "plt.xticks(rotation=60)\n",
    "plt.ylabel(\"Sub_metering_1\")\n",
    "plt.title(\"Sub_metering_1 per quarter (summed over quarter)\")\n",
    "plt.show()"
   ]
  },
  {
   "cell_type": "markdown",
   "metadata": {
    "_cell_guid": "d8abca6a-1281-4739-bd56-15c441f96307",
    "_uuid": "8fdbb401e316cf1cdc62cb11c95b19b6ea96fc89"
   },
   "source": [
    " ## * It is seen from the above plots that the mean of 'Volage' over month is pretty much constant compared to other features. This is important again in feature selection."
   ]
  },
  {
   "cell_type": "code",
   "execution_count": null,
   "metadata": {
    "_cell_guid": "c5d6c77e-6dae-4fb3-9c22-7cde479beee4",
    "_uuid": "8980b9afc86c6fc58cf001da66d4dea679a769b3"
   },
   "outputs": [],
   "source": [
    "# Below I compare the mean of different featuresresampled over day.\n",
    "# specify columns to plot\n",
    "cols = [0, 1, 2, 3, 5, 6]\n",
    "i = 1\n",
    "groups = cols\n",
    "values = df.resample(\"D\").mean().values\n",
    "# plot each column\n",
    "plt.figure(figsize=(15, 10))\n",
    "for group in groups:\n",
    "    plt.subplot(len(cols), 1, i)\n",
    "    plt.plot(values[:, group])\n",
    "    plt.title(df.columns[group], y=0.75, loc=\"right\")\n",
    "    i += 1\n",
    "plt.show()"
   ]
  },
  {
   "cell_type": "code",
   "execution_count": null,
   "metadata": {
    "_cell_guid": "3a812f49-a56b-4fd6-b097-f696b9c1e161",
    "_uuid": "6c867744634ff913c9d092807c9fd3a31cf8adc4"
   },
   "outputs": [],
   "source": [
    "## resampling over week and computing mean\n",
    "df.Global_reactive_power.resample(\"W\").mean().plot(color=\"y\", legend=True)\n",
    "df.Global_active_power.resample(\"W\").mean().plot(color=\"r\", legend=True)\n",
    "df.Sub_metering_1.resample(\"W\").mean().plot(color=\"b\", legend=True)\n",
    "df.Global_intensity.resample(\"W\").mean().plot(color=\"g\", legend=True)\n",
    "plt.show()"
   ]
  },
  {
   "cell_type": "code",
   "execution_count": null,
   "metadata": {
    "_cell_guid": "eb14350e-9d75-4e4b-ab6e-ad54b184715c",
    "_uuid": "ad845bb25b3a0689fa2e7c35f9d94d2540888253"
   },
   "outputs": [],
   "source": [
    "# Below I show hist plot of the mean of different feature resampled over month\n",
    "df.Global_active_power.resample(\"M\").mean().plot(kind=\"hist\", color=\"r\", legend=True)\n",
    "df.Global_reactive_power.resample(\"M\").mean().plot(kind=\"hist\", color=\"b\", legend=True)\n",
    "# df.Voltage.resample('M').sum().plot(kind='hist',color='g', legend=True)\n",
    "df.Global_intensity.resample(\"M\").mean().plot(kind=\"hist\", color=\"g\", legend=True)\n",
    "df.Sub_metering_1.resample(\"M\").mean().plot(kind=\"hist\", color=\"y\", legend=True)\n",
    "plt.show()"
   ]
  },
  {
   "cell_type": "code",
   "execution_count": null,
   "metadata": {
    "_cell_guid": "2678acd8-2a3a-4e2b-ae8c-b5195aef9b90",
    "_uuid": "47d9d0f37799e70fbb22a907a23b9e1c6240f518"
   },
   "outputs": [],
   "source": [
    "## The correlations between 'Global_intensity', 'Global_active_power'\n",
    "data_returns = df.pct_change()\n",
    "sns.jointplot(x=\"Global_intensity\", y=\"Global_active_power\", data=data_returns)\n",
    "\n",
    "plt.show()"
   ]
  },
  {
   "cell_type": "markdown",
   "metadata": {
    "_cell_guid": "70ca2f48-758a-4b62-9b63-d9cf5b5df0ba",
    "_uuid": "713a4b41e2ea26902b45fe5f77b09686d71bac01"
   },
   "source": [
    "### * From above two plots it is seen that 'Global_intensity' and 'Global_active_power' correlated. But 'Voltage', 'Global_active_power' are less correlated. This is important observation for machine learning purpose. "
   ]
  },
  {
   "cell_type": "code",
   "execution_count": null,
   "metadata": {
    "_cell_guid": "3a7cf61d-b18a-4905-bc61-5ca824057dfb",
    "_uuid": "e5be6a103c192025217ced2ee1b56c5ee7b13fb6"
   },
   "outputs": [],
   "source": [
    "## The correlations between 'Voltage' and  'Global_active_power'\n",
    "sns.jointplot(x=\"Voltage\", y=\"Global_active_power\", data=data_returns)\n",
    "plt.show()"
   ]
  },
  {
   "cell_type": "markdown",
   "metadata": {
    "_cell_guid": "c028eac6-bdfc-432e-ad50-e0844fd0bfeb",
    "_uuid": "3a7444ba40d3d84cda517a6e572a13716b52067f"
   },
   "source": [
    "# Correlations among features"
   ]
  },
  {
   "cell_type": "code",
   "execution_count": null,
   "metadata": {
    "_cell_guid": "734168b8-74fd-42ae-938b-c57270f202b5",
    "_uuid": "6a04293e530a9bf55ce72cc986bad9b3cfadb158"
   },
   "outputs": [],
   "source": [
    "# Correlations among columns\n",
    "plt.matshow(df.corr(method=\"spearman\"), vmax=1, vmin=-1, cmap=\"PRGn\")\n",
    "plt.title(\"without resampling\", size=15)\n",
    "plt.colorbar()\n",
    "plt.show()"
   ]
  },
  {
   "cell_type": "code",
   "execution_count": null,
   "metadata": {
    "_cell_guid": "068e0463-8976-4c21-9ec8-da518712413a",
    "_uuid": "b84733df572d0ce0b45c065a18a1f625cb0cf2b4"
   },
   "outputs": [],
   "source": [
    "# Correlations of mean of features resampled over months\n",
    "\n",
    "\n",
    "plt.matshow(\n",
    "    df.resample(\"M\").mean().corr(method=\"spearman\"), vmax=1, vmin=-1, cmap=\"PRGn\"\n",
    ")\n",
    "plt.title(\"resampled over month\", size=15)\n",
    "plt.colorbar()\n",
    "plt.margins(0.02)\n",
    "plt.matshow(\n",
    "    df.resample(\"A\").mean().corr(method=\"spearman\"), vmax=1, vmin=-1, cmap=\"PRGn\"\n",
    ")\n",
    "plt.title(\"resampled over year\", size=15)\n",
    "plt.colorbar()\n",
    "plt.show()"
   ]
  },
  {
   "cell_type": "markdown",
   "metadata": {
    "_cell_guid": "62c92871-2e35-4d0e-a207-883f51c93011",
    "_uuid": "e91a1f7bd7cd1fc7cd353c814e0245977b00b286"
   },
   "source": [
    "## * It is seen from above that with resampling techniques one can change the correlations among features. This is important for feature  engineering."
   ]
  },
  {
   "cell_type": "markdown",
   "metadata": {
    "_cell_guid": "9228b5ee-3442-4f81-be6d-814625bd9dcf",
    "_uuid": "96eea7805695f35a1a5175c4f0ff1455a1cdf8ec"
   },
   "source": [
    "# Machine-Leaning: LSTM Data Preparation and feature engineering"
   ]
  },
  {
   "cell_type": "markdown",
   "metadata": {
    "_cell_guid": "785e6236-003c-4563-86bb-4d65ede164db",
    "_uuid": "c97563723f9719858787bb9492597d78a36b9689"
   },
   "source": [
    "### * I will apply recurrent nueral network (LSTM) which is best suited for time-seriers and sequential problem. This approach is the best if we have large data.  \n",
    "\n",
    "### * I will frame the supervised learning problem as predicting the Global_active_power at the current time (t) given the Global_active_power measurement and other features at the prior time step."
   ]
  },
  {
   "cell_type": "code",
   "execution_count": 17,
   "metadata": {
    "_cell_guid": "bbe47808-9a49-4d95-bdcd-4318e52afd3b",
    "_uuid": "357627b3b61c052602cc767150e85611349723c9"
   },
   "outputs": [],
   "source": [
    "def series_to_supervised(data, n_in=1, n_out=1, dropnan=True):\n",
    "    n_vars = 1 if type(data) is list else data.shape[1]\n",
    "    dff = pd.DataFrame(data)\n",
    "    cols, names = list(), list()\n",
    "    # input sequence (t-n, ... t-1)\n",
    "    for i in range(n_in, 0, -1):\n",
    "        cols.append(dff.shift(i))\n",
    "        names += [(\"var%d(t-%d)\" % (j + 1, i)) for j in range(n_vars)]\n",
    "    # forecast sequence (t, t+1, ... t+n)\n",
    "    for i in range(0, n_out):\n",
    "        cols.append(dff.shift(-i))\n",
    "        if i == 0:\n",
    "            names += [(\"var%d(t)\" % (j + 1)) for j in range(n_vars)]\n",
    "        else:\n",
    "            names += [(\"var%d(t+%d)\" % (j + 1, i)) for j in range(n_vars)]\n",
    "    # put it all together\n",
    "    agg = pd.concat(cols, axis=1)\n",
    "    agg.columns = names\n",
    "    # drop rows with NaN values\n",
    "    if dropnan:\n",
    "        agg.dropna(inplace=True)\n",
    "    return agg"
   ]
  },
  {
   "cell_type": "markdown",
   "metadata": {
    "_cell_guid": "54cdd84c-fa72-488f-8ad6-138cd3c75b19",
    "_uuid": "aae2b3dce1d5deede311162f4f87fe177f8658c3"
   },
   "source": [
    "### * In order to reduce the computation time, and also get a quick result to test the model.  One can resmaple the data over hour (the original data are given in minutes). This will reduce the size of data from 2075259 to 34589 but keep the overall strucure of data as shown in the above.   "
   ]
  },
  {
   "cell_type": "code",
   "execution_count": 18,
   "metadata": {
    "_cell_guid": "c058e5d7-0a80-47fc-b521-b138ddf35df2",
    "_uuid": "c7788fe3aa3b735c17ba173428c24656a88687b8"
   },
   "outputs": [
    {
     "data": {
      "text/plain": [
       "(34589, 7)"
      ]
     },
     "execution_count": 18,
     "metadata": {},
     "output_type": "execute_result"
    }
   ],
   "source": [
    "## resampling of data over hour\n",
    "df_resample = df.resample(\"h\").mean()\n",
    "df_resample.shape"
   ]
  },
  {
   "cell_type": "code",
   "execution_count": 28,
   "metadata": {
    "_cell_guid": "92446008-96b2-41eb-8443-0891da4f0661",
    "_uuid": "e52b3318d182b1af08c5b01f7861107b7e502332"
   },
   "outputs": [
    {
     "name": "stdout",
     "output_type": "stream",
     "text": [
      "   var1(t-1)  var2(t-1)  var3(t-1)  var4(t-1)  var5(t-1)  var6(t-1)  \\\n",
      "1   0.636816   0.295738   0.337945   0.631157        0.0   0.011366   \n",
      "2   0.545045   0.103358   0.335501   0.541487        0.0   0.144652   \n",
      "3   0.509006   0.110073   0.283802   0.502152        0.0   0.030869   \n",
      "4   0.488550   0.096987   0.315987   0.481110        0.0   0.000000   \n",
      "5   0.455597   0.099010   0.434417   0.449904        0.0   0.008973   \n",
      "\n",
      "   var7(t-1)   var1(t)   var2(t)   var3(t)   var4(t)  var5(t)   var6(t)  \\\n",
      "1   0.782418  0.545045  0.103358  0.335501  0.541487      0.0  0.144652   \n",
      "2   0.782676  0.509006  0.110073  0.283802  0.502152      0.0  0.030869   \n",
      "3   0.774169  0.488550  0.096987  0.315987  0.481110      0.0  0.000000   \n",
      "4   0.778809  0.455597  0.099010  0.434417  0.449904      0.0  0.008973   \n",
      "5   0.798917  0.322555  0.072536  0.495847  0.323529      0.0  0.002872   \n",
      "\n",
      "    var7(t)  \n",
      "1  0.782676  \n",
      "2  0.774169  \n",
      "3  0.778809  \n",
      "4  0.798917  \n",
      "5  0.205723  \n",
      "   var1(t-1)  var2(t-1)  var3(t-1)  var4(t-1)  var5(t-1)  var6(t-1)  \\\n",
      "1   0.636816   0.295738   0.337945   0.631157        0.0   0.011366   \n",
      "2   0.545045   0.103358   0.335501   0.541487        0.0   0.144652   \n",
      "3   0.509006   0.110073   0.283802   0.502152        0.0   0.030869   \n",
      "4   0.488550   0.096987   0.315987   0.481110        0.0   0.000000   \n",
      "5   0.455597   0.099010   0.434417   0.449904        0.0   0.008973   \n",
      "\n",
      "   var7(t-1)   var1(t)  \n",
      "1   0.782418  0.545045  \n",
      "2   0.782676  0.509006  \n",
      "3   0.774169  0.488550  \n",
      "4   0.778809  0.455597  \n",
      "5   0.798917  0.322555  \n"
     ]
    }
   ],
   "source": [
    "## * Note: I scale all features in range of [0,1].\n",
    "\n",
    "## If you would like to train based on the resampled data (over hour), then used below\n",
    "values = df_resample.values\n",
    "\n",
    "\n",
    "## full data without resampling\n",
    "# values = df.values\n",
    "\n",
    "# integer encode direction\n",
    "# ensure all data is float\n",
    "# values = values.astype('float32')\n",
    "# normalize features\n",
    "scaler = MinMaxScaler(feature_range=(0, 1))\n",
    "scaled = scaler.fit_transform(values)\n",
    "# frame as supervised learning\n",
    "reframed = series_to_supervised(scaled, 1, 1)\n",
    "print(reframed.head())\n",
    "# drop columns we don't want to predict\n",
    "reframed.drop(reframed.columns[[8, 9, 10, 11, 12, 13]], axis=1, inplace=True)\n",
    "print(reframed.head())\n",
    "# print(scaled)\n",
    "# print(df_resample.head())"
   ]
  },
  {
   "cell_type": "code",
   "execution_count": 20,
   "metadata": {},
   "outputs": [
    {
     "data": {
      "text/html": [
       "<div>\n",
       "<style scoped>\n",
       "    .dataframe tbody tr th:only-of-type {\n",
       "        vertical-align: middle;\n",
       "    }\n",
       "\n",
       "    .dataframe tbody tr th {\n",
       "        vertical-align: top;\n",
       "    }\n",
       "\n",
       "    .dataframe thead th {\n",
       "        text-align: right;\n",
       "    }\n",
       "</style>\n",
       "<table border=\"1\" class=\"dataframe\">\n",
       "  <thead>\n",
       "    <tr style=\"text-align: right;\">\n",
       "      <th></th>\n",
       "      <th>var1(t-1)</th>\n",
       "      <th>var2(t-1)</th>\n",
       "      <th>var3(t-1)</th>\n",
       "      <th>var4(t-1)</th>\n",
       "      <th>var5(t-1)</th>\n",
       "      <th>var6(t-1)</th>\n",
       "      <th>var7(t-1)</th>\n",
       "      <th>var1(t)</th>\n",
       "    </tr>\n",
       "  </thead>\n",
       "  <tbody>\n",
       "    <tr>\n",
       "      <th>1</th>\n",
       "      <td>0.636816</td>\n",
       "      <td>0.295738</td>\n",
       "      <td>0.337945</td>\n",
       "      <td>0.631157</td>\n",
       "      <td>0.0</td>\n",
       "      <td>0.011366</td>\n",
       "      <td>0.782418</td>\n",
       "      <td>0.545045</td>\n",
       "    </tr>\n",
       "    <tr>\n",
       "      <th>2</th>\n",
       "      <td>0.545045</td>\n",
       "      <td>0.103358</td>\n",
       "      <td>0.335501</td>\n",
       "      <td>0.541487</td>\n",
       "      <td>0.0</td>\n",
       "      <td>0.144652</td>\n",
       "      <td>0.782676</td>\n",
       "      <td>0.509006</td>\n",
       "    </tr>\n",
       "    <tr>\n",
       "      <th>3</th>\n",
       "      <td>0.509006</td>\n",
       "      <td>0.110073</td>\n",
       "      <td>0.283802</td>\n",
       "      <td>0.502152</td>\n",
       "      <td>0.0</td>\n",
       "      <td>0.030869</td>\n",
       "      <td>0.774169</td>\n",
       "      <td>0.488550</td>\n",
       "    </tr>\n",
       "    <tr>\n",
       "      <th>4</th>\n",
       "      <td>0.488550</td>\n",
       "      <td>0.096987</td>\n",
       "      <td>0.315987</td>\n",
       "      <td>0.481110</td>\n",
       "      <td>0.0</td>\n",
       "      <td>0.000000</td>\n",
       "      <td>0.778809</td>\n",
       "      <td>0.455597</td>\n",
       "    </tr>\n",
       "    <tr>\n",
       "      <th>5</th>\n",
       "      <td>0.455597</td>\n",
       "      <td>0.099010</td>\n",
       "      <td>0.434417</td>\n",
       "      <td>0.449904</td>\n",
       "      <td>0.0</td>\n",
       "      <td>0.008973</td>\n",
       "      <td>0.798917</td>\n",
       "      <td>0.322555</td>\n",
       "    </tr>\n",
       "  </tbody>\n",
       "</table>\n",
       "</div>"
      ],
      "text/plain": [
       "   var1(t-1)  var2(t-1)  var3(t-1)  var4(t-1)  var5(t-1)  var6(t-1)  \\\n",
       "1   0.636816   0.295738   0.337945   0.631157        0.0   0.011366   \n",
       "2   0.545045   0.103358   0.335501   0.541487        0.0   0.144652   \n",
       "3   0.509006   0.110073   0.283802   0.502152        0.0   0.030869   \n",
       "4   0.488550   0.096987   0.315987   0.481110        0.0   0.000000   \n",
       "5   0.455597   0.099010   0.434417   0.449904        0.0   0.008973   \n",
       "\n",
       "   var7(t-1)   var1(t)  \n",
       "1   0.782418  0.545045  \n",
       "2   0.782676  0.509006  \n",
       "3   0.774169  0.488550  \n",
       "4   0.778809  0.455597  \n",
       "5   0.798917  0.322555  "
      ]
     },
     "execution_count": 20,
     "metadata": {},
     "output_type": "execute_result"
    }
   ],
   "source": [
    "reframed.head()"
   ]
  },
  {
   "cell_type": "markdown",
   "metadata": {
    "_cell_guid": "1da3f82c-4d6c-4e61-8d15-9e0d10bbf439",
    "_uuid": "56e2075321b9bb71a68c95d89cd456c0d7e06a0c"
   },
   "source": [
    "### * Above I showed 7 input variables (input series) and the 1 output variable for 'Global_active_power' at the current  time in hour (depending on resampling). "
   ]
  },
  {
   "cell_type": "markdown",
   "metadata": {
    "_cell_guid": "9e68b32c-ffd6-4cf8-80a2-af3a4ceb2475",
    "_uuid": "88f25976896ce216e7fdb6d4c794ae34afac929e"
   },
   "source": [
    "# Splitting the rest of data to train and validation sets"
   ]
  },
  {
   "cell_type": "markdown",
   "metadata": {
    "_cell_guid": "9420cfc7-1dfa-4e41-83b0-5e8584141efe",
    "_uuid": "04669c30c70976db4c2d1680f3b25954a828d70f"
   },
   "source": [
    "### * First, I split the prepared dataset into train and test sets. To speed up the training of the model (for the sake of the demonstration), we will only train the model on the first year of data, then evaluate it on the next 3 years of data."
   ]
  },
  {
   "cell_type": "code",
   "execution_count": 29,
   "metadata": {
    "_cell_guid": "09d42264-a006-4b74-b15f-335c9eec1ca3",
    "_uuid": "e34334eecbc31120132753c7d0f156e448e7499e"
   },
   "outputs": [
    {
     "name": "stdout",
     "output_type": "stream",
     "text": [
      "(8760, 1, 7) (8760,) (25828, 1, 7) (25828,)\n"
     ]
    }
   ],
   "source": [
    "# split into train and test sets\n",
    "values = reframed.values\n",
    "\n",
    "n_train_time = 365 * 24\n",
    "train = values[:n_train_time, :]\n",
    "test = values[n_train_time:, :]\n",
    "##test = values[n_train_time:n_test_time, :]\n",
    "# split into input and outputs\n",
    "train_X, train_y = train[:, :-1], train[:, -1]\n",
    "test_X, test_y = test[:, :-1], test[:, -1]\n",
    "# reshape input to be 3D [samples, timesteps, features]\n",
    "train_X = train_X.reshape((train_X.shape[0], 1, train_X.shape[1]))\n",
    "test_X = test_X.reshape((test_X.shape[0], 1, test_X.shape[1]))\n",
    "print(train_X.shape, train_y.shape, test_X.shape, test_y.shape)\n",
    "# We reshaped the input into the 3D format as expected by LSTMs, namely [samples, timesteps, features]."
   ]
  },
  {
   "cell_type": "markdown",
   "metadata": {
    "_cell_guid": "58d20cc6-4a51-4c66-9e79-d978de83f873",
    "_uuid": "afb164028f72fc78aa0bca82055f23dd69fe9473"
   },
   "source": [
    "# Model architecture\n",
    "\n",
    "### 1)  LSTM with 100 neurons in the first visible layer \n",
    "### 3) dropout 20%\n",
    "### 4) 1 neuron in the output layer for predicting Global_active_power. \n",
    "### 5) The input shape will be 1 time step with 7 features.\n",
    "\n",
    "### 6) I use the Mean Absolute Error (MAE) loss function and the efficient Adam version of stochastic gradient descent.\n",
    "### 7) The model will be fit for 20 training epochs with a batch size of 70.\n"
   ]
  },
  {
   "cell_type": "code",
   "execution_count": null,
   "metadata": {
    "_cell_guid": "444f010e-3459-48b5-89ca-5f33fd8273ea",
    "_uuid": "03946922a11d6b62e0990eb4ffa8d52feac9b297"
   },
   "outputs": [],
   "source": [
    "model = Sequential()\n",
    "model.add(LSTM(100, input_shape=(train_X.shape[1], train_X.shape[2])))\n",
    "model.add(Dropout(0.2))\n",
    "#    model.add(LSTM(70))\n",
    "#    model.add(Dropout(0.3))\n",
    "model.add(Dense(1))\n",
    "model.compile(loss=\"mean_squared_error\", optimizer=\"adam\")\n",
    "\n",
    "\n",
    "# fit network\n",
    "history = model.fit(\n",
    "    train_X,\n",
    "    train_y,\n",
    "    epochs=20,\n",
    "    batch_size=70,\n",
    "    validation_data=(test_X, test_y),\n",
    "    verbose=2,\n",
    "    shuffle=False,\n",
    ")\n",
    "\n",
    "# summarize history for loss\n",
    "plt.plot(history.history[\"loss\"])\n",
    "plt.plot(history.history[\"val_loss\"])\n",
    "plt.title(\"model loss\")\n",
    "plt.ylabel(\"loss\")\n",
    "plt.xlabel(\"epoch\")\n",
    "plt.legend([\"train\", \"test\"], loc=\"upper right\")\n",
    "plt.show()\n",
    "\n",
    "# make a prediction\n",
    "yhat = model.predict(test_X)\n",
    "test_X = test_X.reshape((test_X.shape[0], 7))\n",
    "# invert scaling for forecast\n",
    "inv_yhat = np.concatenate((yhat, test_X[:, -6:]), axis=1)\n",
    "inv_yhat = scaler.inverse_transform(inv_yhat)\n",
    "inv_yhat = inv_yhat[:, 0]\n",
    "# invert scaling for actual\n",
    "test_y = test_y.reshape((len(test_y), 1))\n",
    "inv_y = np.concatenate((test_y, test_X[:, -6:]), axis=1)\n",
    "inv_y = scaler.inverse_transform(inv_y)\n",
    "inv_y = inv_y[:, 0]\n",
    "# calculate RMSE\n",
    "rmse = np.sqrt(mean_squared_error(inv_y, inv_yhat))\n",
    "print(\"Test RMSE: %.3f\" % rmse)"
   ]
  },
  {
   "cell_type": "markdown",
   "metadata": {
    "_cell_guid": "82163b05-3842-4108-aee9-ca3e4b88d924",
    "_uuid": "57a7d528a6f621368582f2440bd3b30b0675dd88"
   },
   "source": [
    "### Note that in order to improve the model, one has to adjust epochs and batch_size."
   ]
  },
  {
   "cell_type": "code",
   "execution_count": null,
   "metadata": {
    "_uuid": "78449473770f61669fa5bd8acedb0b662f48ebac"
   },
   "outputs": [],
   "source": [
    "## time steps, every step is one hour (you can easily convert the time step to the actual time index)\n",
    "## for a demonstration purpose, I only compare the predictions in 200 hours.\n",
    "\n",
    "aa = [x for x in range(200)]\n",
    "plt.plot(aa, inv_y[:200], marker=\".\", label=\"actual\")\n",
    "plt.plot(aa, inv_yhat[:200], \"r\", label=\"prediction\")\n",
    "plt.ylabel(\"Global_active_power\", size=15)\n",
    "plt.xlabel(\"Time step\", size=15)\n",
    "plt.legend(fontsize=15)\n",
    "plt.show()"
   ]
  },
  {
   "cell_type": "markdown",
   "metadata": {
    "_cell_guid": "bfd3c945-8a04-4602-b214-71fae8a0fb51",
    "_uuid": "34c78f198d644279c82a8bf1cdeca53d41621ef9"
   },
   "source": [
    "# Final remarks"
   ]
  },
  {
   "cell_type": "markdown",
   "metadata": {
    "_cell_guid": "82ade3ad-188b-4ca8-afb2-ab355a7ed6fe",
    "_uuid": "a60be7137757c76c9dd6fc6d3b5c69fbbf707c7b"
   },
   "source": [
    "### * Here I have used the LSTM neural network which is now the state-of-the-art for sequencial problems. \n",
    "\n",
    "### * In order to reduce the computation time, and get some results quickly, I took the first year of data (resampled over hour) to train the model and the rest of data to test the model.  \n",
    "\n",
    "### * I put together a very simple LSTM neural-network to show that one can obtain reasonable predictions. However numbers of rows is too high and as a result the computation is very time-consuming (even for the simple model in the above it took few mins to be run on  2.8 GHz Intel Core i7).  The Best is to write the last part of code using Spark (MLlib) running on GPU.  \n",
    "\n",
    "### * Moreover, the neural-network architecture that I have designed is a toy model. It can be easily improved by adding CNN  and dropout layers.  The CNN is useful here since there are correlations in data (CNN layer is a good way to probe the local structure of data).   "
   ]
  },
  {
   "cell_type": "code",
   "execution_count": null,
   "metadata": {
    "_cell_guid": "9e12fbc0-d0ba-4cce-a202-a2656cb2b1e0",
    "_uuid": "07a28ca8f9c4964fb7a63d49baabdafc29aaf760",
    "collapsed": true,
    "jupyter": {
     "outputs_hidden": true
    }
   },
   "outputs": [],
   "source": [
    "class LSTM:\n",
    "    def __init__(self, data):\n",
    "        self.data = np.reshape(data, (-1, 1))\n",
    "\n",
    "    def scale_data(self, scaler=MinMaxScaler(feature_range=(0, 1))):\n",
    "        self.data = scaler.fit_transform(self.data)\n",
    "\n",
    "    def split_data(self, split=0.75):\n",
    "        train_len = int(len(self.data) * split)\n",
    "        test_len = len(self.data) - train_len\n",
    "        self.train, self.test = (\n",
    "            self.data[0:train_len, :],\n",
    "            self.data[train_len : len(self.data), :],\n",
    "        )\n",
    "        return self.train, self.test\n",
    "\n",
    "    def make_lags(self, list_of_data, lags, lead_time=1):\n",
    "        return pd.concat(\n",
    "            {f\"y_step_{i + 1}\": ts.shift(-i) for i in range(steps)}, axis=1\n",
    "        )\n",
    "\n",
    "    def xy_split(self, data_to_split):\n",
    "        return np.array(data_to_split.iloc[:, :-1]), np.array(data_to_split.iloc[:, -1])\n",
    "\n",
    "    def reshape_to_3(self, data_to_reshape):\n",
    "        return np.reshape(\n",
    "            data_to_reshape, (data_to_reshape.shape[0], 1, data_to_reshape.shape[1])\n",
    "        )\n",
    "\n",
    "    def store_values(self, x_train, x_test, y_train, y_test):\n",
    "        self.x_train = x_train\n",
    "        self.x_test = x_test\n",
    "        self.y_train = y_train\n",
    "        self.y_test = y_test\n",
    "\n",
    "    def create_model(self, LSTM_neurons=100, dropout_percent=0.2):\n",
    "        self.model = keras.Sequential()\n",
    "        self.model.add(\n",
    "            layers.LSTM(\n",
    "                LSTM_neurons, input_shape=(self.x_train.shape[1], self.x_train.shape[2])\n",
    "            )\n",
    "        )\n",
    "        self.model.add(layers.Dropout(dropout_percent))\n",
    "        self.model.add(layers.Dense(1))\n",
    "        self.model.compile(loss=\"mean_squared_error\", optimizer=\"adam\")\n",
    "\n",
    "    def fit_model(\n",
    "        epochs,\n",
    "        batch_size,\n",
    "    ):\n",
    "        self.history = self.model.fit(\n",
    "            self.x_train,\n",
    "            self.y_train,\n",
    "            epochs=epochs,\n",
    "            batch_size=batch_size,\n",
    "            validation_data=(self.x_test, self.y_test),\n",
    "            callbacks=[keras.callbacks.EarlyStopping(monitor=\"val_loss\", patience=10)],\n",
    "            verbose=1,\n",
    "            shuffle=False,\n",
    "        )\n",
    "\n",
    "        print(self.model.summary())\n",
    "\n",
    "    def predict_evaluate(self):\n",
    "        self.train_predict = self.model.predict(self.x_train)\n",
    "        self.test_predict = self.model.predict(self.x_test)\n",
    "        # invert predictions back to previous values  \n",
    "        self.train_predict = scaler.inverse_transform(self.train_predict)\n",
    "        self.y_train = scaler.inverse_transform([self.y_train])\n",
    "        self.test_predict = scaler.inverse_transform(self.test_predict)\n",
    "        self.y_test = scaler.inverse_transform([self.y_test])\n",
    "        \n",
    "        mae = mean_absolute_error(self.y_train[0], self.train_predict[:, 0])\n",
    "        rmse = np.sqrt(mean_squared_error(self.Y_train[0],self. train_predict[:, 0]))\n",
    "        tmse = mean_absolute_error(self.y_test[0], self.test_predict[:, 0])\n",
    "        trmse = np.sqrt(mean_squared_error(self.Y_test[0], self.test_predict[:, 0]))\n",
    "\n",
    "        print(\"Train Mean Absolute Error: %.3f\" % mae)\n",
    "        print(\"Train Root Mean Squared Error: %.3f\" % rmse)\n",
    "        print(\"Test Mean Absolute Error: %.3f\" % tmse)\n",
    "        print(\"Test Root Mean Squared Error: %.3f\" % trmse)\n",
    "    def plot_loss(self):\n",
    "        plt.figure(figsize=(10, 5))\n",
    "        plt.plot(history.history[\"loss\"], label=\"Train Loss\")\n",
    "        plt.plot(history.history[\"val_loss\"], label=\"Test Loss\")\n",
    "        plt.title(\"model loss\")\n",
    "        plt.ylabel(\"loss\")\n",
    "        plt.xlabel(\"epochs\")\n",
    "        plt.legend(loc=\"upper right\")\n",
    "        plt.show();\n",
    "    def plot_graph(self, timestep, window_start,window_end ,data_col_name):\n",
    "        \n",
    "        time_range  = [i for i in range(timestep)]\n",
    "        plt.figure(figsize=(8, 4))\n",
    "        plt.plot(time_range , self.y_test[0][window_start:window_end], color='b',marker=\".\", label=\"Reality\")\n",
    "        plt.plot(time_range , self.test_predict[:, 0][window_start:windo], \"r\", label=\"Prediction\")\n",
    "        # plt.tick_params(left=False, labelleft=True) #remove ticks\n",
    "        plt.tight_layout()\n",
    "        sns.despine(top=True)\n",
    "        plt.subplots_adjust(left=0.07)\n",
    "        plt.ylabel(data_col_name, size=15)\n",
    "        plt.xlabel(\"Time step\", size=15)\n",
    "        plt.legend(fontsize=15)\n",
    "        plt.show();\n",
    "              "
   ]
  },
  {
   "cell_type": "code",
   "execution_count": null,
   "metadata": {},
   "outputs": [],
   "source": []
  }
 ],
 "metadata": {
  "kernelspec": {
   "display_name": "Python 3",
   "language": "python",
   "name": "python3"
  },
  "language_info": {
   "codemirror_mode": {
    "name": "ipython",
    "version": 3
   },
   "file_extension": ".py",
   "mimetype": "text/x-python",
   "name": "python",
   "nbconvert_exporter": "python",
   "pygments_lexer": "ipython3",
   "version": "3.6.13"
  }
 },
 "nbformat": 4,
 "nbformat_minor": 4
}
